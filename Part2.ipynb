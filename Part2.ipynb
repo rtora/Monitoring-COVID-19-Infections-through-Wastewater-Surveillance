{
 "cells": [
  {
   "cell_type": "markdown",
   "metadata": {},
   "source": [
    "# Project Part 2 Solutions"
   ]
  },
  {
   "cell_type": "markdown",
   "metadata": {},
   "source": [
    "## (a)"
   ]
  },
  {
   "cell_type": "code",
   "execution_count": 1,
   "metadata": {},
   "outputs": [],
   "source": [
    "import numpy as np\n",
    "\n",
    "file=np.load(\"part2.npz\")\n",
    "beta_old=file['beta_old']\n",
    "N=file['N']\n",
    "Svc_0_PMF=file['Svc_0_PMF']\n",
    "Lc=file['Lc']\n",
    "Ic_0=file['Ic_0']\n",
    "gamma=file['gamma']\n",
    "L_observed=file['L_observed']\n",
    "nb_nodes = Svc_0_PMF.shape[0]"
   ]
  },
  {
   "cell_type": "code",
   "execution_count": 2,
   "metadata": {},
   "outputs": [],
   "source": [
    "def SIR(t, Z, N, betas, gamma):\n",
    "    (S_vec, I_vec, R) = (Z[:16].reshape(4, 4), Z[16:20], Z[-1])\n",
    "    I = I_vec.sum()\n",
    "    dSdt = -betas*S_vec*I/N \n",
    "    dIdt = -dSdt.sum(axis=0)-gamma*I_vec\n",
    "    dRdt = np.array([gamma*I])\n",
    "    return np.concatenate((dSdt.flatten(), dIdt, dRdt))"
   ]
  },
  {
   "cell_type": "code",
   "execution_count": 3,
   "metadata": {},
   "outputs": [],
   "source": [
    "from scipy.integrate import solve_ivp\n",
    "from scipy.optimize import fmin\n",
    "from sklearn.metrics import mean_squared_error\n",
    "\n",
    "Svc_0_PMF /= Svc_0_PMF.sum(axis=(1, 2), keepdims=True)\n",
    "Svc_0 = (N-Ic_0.sum(axis=1))[:, np.newaxis, np.newaxis]*Svc_0_PMF\n",
    "Svc_0 = Svc_0.round().astype(int)\n",
    "R0 = np.zeros((nb_nodes)).astype(int)\n",
    "\n",
    "t = np.linspace(0, 199, 200)\n",
    "\n",
    "S = np.zeros((nb_nodes, 4, 4, len(t)))\n",
    "I = np.zeros((nb_nodes, 4, len(t)))\n",
    "R = np.zeros((nb_nodes, len(t)))\n",
    "L = np.zeros((nb_nodes, len(t)))\n",
    "\n",
    "for N_node, node_index in zip(N, range(nb_nodes)):\n",
    "\n",
    "    initial_conditions = np.concatenate(\n",
    "        (Svc_0[node_index].flatten(), Ic_0[node_index], [R0[node_index]]))\n",
    "\n",
    "    soln = solve_ivp(\n",
    "        SIR, (t[0], t[9]), initial_conditions, args=(N_node, beta_old, gamma), t_eval=t[:10])\n",
    "\n",
    "    S[node_index, :, :, :10] = soln.y[:16].reshape(4, 4, -1)\n",
    "    I[node_index, :, :10] = soln.y[16:20]\n",
    "    R[node_index, :10] = soln.y[20]\n",
    "    L[node_index, :10] = Lc@soln.y[16:20]\n",
    "\n",
    "alpha_predicted = np.zeros((nb_nodes))\n",
    "\n",
    "def loss_func(alpha):\n",
    "    \n",
    "    ###### WRITE YOUR FUNCTION HERE\n",
    "\n",
    "    soln_obj=solve_ivp(SIR, (t[9], t[29]), np.concatenate((S[node_index, :, :, 9:10].flatten(),\\\n",
    "                                                           I[node_index, :, 9:10].flatten(),R[node_index, 9:10]))\\\n",
    "                       , args=(N_node, beta_old*alpha, gamma), t_eval=t[9:29])\n",
    "    '''\n",
    "    check the value below I'm not sure how to calculate it\n",
    "    ''' \n",
    "    \n",
    "    Lpred = Lc@soln_obj.y[16:20]\n",
    "\n",
    "    mse = mean_squared_error(L_observed[node_index][9:29].flatten(), (Lpred).flatten()) \n",
    " \n",
    "  \n",
    "\n",
    "    return mse\n",
    "\n",
    "\n",
    "for N_node, node_index in zip(N, range(nb_nodes)):\n",
    "    alpha_predicted[node_index] = fmin(loss_func, 0.5, disp=False)\n",
    "\n"
   ]
  },
  {
   "cell_type": "code",
   "execution_count": 4,
   "metadata": {},
   "outputs": [],
   "source": [
    "#Get the values for days 9-29 with alpha_predicted \n",
    "\n",
    "for N_node, node_index in zip(N, range(nb_nodes)):\n",
    "\n",
    "    initial_conditions = np.concatenate((S[node_index, :, :, 9].flatten(),\n",
    "                                         I[node_index, :, 9].flatten(), [R[node_index, 9]]))\n",
    "    \n",
    "    soln=solve_ivp(SIR, (t[9], t[29]), initial_conditions, args=(N_node, beta_old*alpha_predicted[node_index], gamma), t_eval=t[10:30])\n",
    "    \n",
    "    #soln = solve_ivp(\n",
    "    #    SIR, (t[0], t[29]), initial_conditions, args=(N_node, beta_old, gamma), t_eval=t[0:30])\n",
    "\n",
    "    S[node_index, :, :, 10:30] = soln.y[:16].reshape(4, 4, -1)\n",
    "    I[node_index, :, 10:30] = soln.y[16:20]\n",
    "    R[node_index, 10:30] = soln.y[20]\n",
    "    L[node_index, 10:30] = Lc@soln.y[16:20]\n",
    "    "
   ]
  },
  {
   "cell_type": "code",
   "execution_count": 5,
   "metadata": {},
   "outputs": [],
   "source": [
    "#Predicted SIR values for days 29-200 using alpha_predicted\n",
    "\n",
    "for N_node, node_index in zip(N, range(nb_nodes)):\n",
    "    \n",
    "    S_pred = S[:]\n",
    "    I_pred = I[:]\n",
    "    R_pred = R[:]\n",
    "    L_pred = L[:]\n",
    "\n",
    "    initial_conditions = np.concatenate(\n",
    "        (S[node_index,:,:,29].flatten(), I[node_index,:,29], [R[node_index,29]]))\n",
    "\n",
    "    soln = solve_ivp(\n",
    "        SIR, (t[29], t[199]), initial_conditions, args=(N_node, alpha_predicted[node_index]*beta_old, gamma), t_eval=t[30:200])\n",
    "\n",
    "    S_pred[node_index, :, :, 30:200] = soln.y[:16].reshape(4, 4, -1)\n",
    "    I_pred[node_index, :, 30:200] = soln.y[16:20]\n",
    "    R_pred[node_index, 30:200] = soln.y[20]\n",
    "    L_pred[node_index, 30:200] = Lc@soln.y[16:20]"
   ]
  },
  {
   "cell_type": "markdown",
   "metadata": {},
   "source": [
    "## (b)"
   ]
  },
  {
   "cell_type": "code",
   "execution_count": 6,
   "metadata": {},
   "outputs": [],
   "source": [
    "def g(money):\n",
    "    alpha = 1/np.log2(2*10**(-3)*money+2)\n",
    "    return alpha\n",
    " \n",
    "def g_inv(alpha):\n",
    "    money = (2**(1/alpha)-2)/(2*10**(-3))\n",
    "    return money\n",
    "\n",
    "import matplotlib.pyplot as plt \n",
    "\n",
    "def scatter_plot(alpha_afterNPI):\n",
    "    plt.figure()\n",
    "    colors=(beta_old[np.newaxis,:,:]*Svc_0_PMF).mean(axis=(1,2))\n",
    "    plt.scatter(alpha_predicted, alpha_afterNPI, s=N/500, c=colors, cmap='jet', alpha=0.5)\n",
    "    plt.xlabel(r\"$\\alpha_{own}$\")\n",
    "    plt.ylabel(r\"$\\alpha_{after\\ NPI}$\")\n",
    "\n",
    "S_after = np.zeros((nb_nodes, 4, 4, len(t)))\n",
    "I_after = np.zeros((nb_nodes, 4, len(t)))\n",
    "R_after = np.zeros((nb_nodes, len(t)))\n",
    "L_after = np.zeros((nb_nodes, len(t)))\n",
    "\n",
    "def total_recovered_difference(alpha_afterNPI):\n",
    "    \n",
    "    S_after = np.zeros((nb_nodes, 4, 4, len(t)))\n",
    "    I_after = np.zeros((nb_nodes, 4, len(t)))\n",
    "    R_after = np.zeros((nb_nodes, len(t)))\n",
    "    L_after = np.zeros((nb_nodes, len(t)))\n",
    "\n",
    "    for N_node, node_index in zip(N, range(nb_nodes)):\n",
    "\n",
    "        initial_conditions = np.concatenate(\n",
    "            (S[node_index,:,:,29].flatten(), I[node_index,:,29], [R[node_index,29]]))\n",
    "\n",
    "        soln_after = solve_ivp(\n",
    "            SIR, (t[29], t[199]), initial_conditions, args=(N_node, alpha_afterNPI[node_index]*beta_old, gamma), t_eval=t[30:200])\n",
    "\n",
    "        S_after[node_index, :, :, 30:200] = soln_after.y[:16].reshape(4, 4, -1)\n",
    "        I_after[node_index, :, 30:200] = soln_after.y[16:20]\n",
    "        R_after[node_index, 30:200] = soln_after.y[20]\n",
    "        L_after[node_index, 30:200] = Lc@soln_after.y[16:20]\n",
    "\n",
    "    difference = np.sum(R_pred[:,-1] - R_after[:,-1])\n",
    "    \n",
    "\n",
    "    \n",
    "    return difference"
   ]
  },
  {
   "cell_type": "code",
   "execution_count": 7,
   "metadata": {
    "jupyter": {
     "source_hidden": true
    }
   },
   "outputs": [],
   "source": [
    "# Here is getting the Solution with alpha_afterNPI\n",
    "\n",
    "#S_after = np.zeros((nb_nodes, 4, 4, len(t)))\n",
    "#I_after = np.zeros((nb_nodes, 4, len(t)))\n",
    "#R_after = np.zeros((nb_nodes, len(t)))\n",
    "#L_after = np.zeros((nb_nodes, len(t)))\n",
    "\n",
    "\n",
    "#alpha_afterNPI = g(g_inv(alpha_predicted) + 10000)\n",
    "\n",
    "#for N_node, node_index in zip(N, range(nb_nodes)):\n",
    "\n",
    "#    initial_conditions = np.concatenate(\n",
    "#        (S[node_index,:,:,29].flatten(), I[node_index,:,29], [R[node_index,29]]))\n",
    "\n",
    "#    soln_after = solve_ivp(\n",
    "#        SIR, (t[29], t[199]), initial_conditions, args=(N_node, alpha_afterNPI[node_index]*beta_old, gamma), t_eval=t[30:200])\n",
    "\n",
    "#    S_after[node_index, :, :, 30:200] = soln_after.y[:16].reshape(4, 4, -1)\n",
    "#    I_after[node_index, :, 30:200] = soln_after.y[16:20]\n",
    "#    R_after[node_index, 30:200] = soln_after.y[20]\n",
    "#    L_after[node_index, 30:200] = Lc@soln_after.y[16:20]\n",
    "\n",
    "#difference = np.sum(R_pred[:,-1] - R_after[:,-1])\n"
   ]
  },
  {
   "cell_type": "markdown",
   "metadata": {},
   "source": [
    "### Policy #1"
   ]
  },
  {
   "cell_type": "markdown",
   "metadata": {},
   "source": [
    "i. "
   ]
  },
  {
   "cell_type": "code",
   "execution_count": 8,
   "metadata": {},
   "outputs": [
    {
     "data": {
      "image/png": "[encoded data removed]",
      "text/plain": [
       "<Figure size 432x288 with 1 Axes>"
      ]
     },
     "metadata": {
      "needs_background": "light"
     },
     "output_type": "display_data"
    }
   ],
   "source": [
    "alpha_equal = g(g_inv(alpha_predicted) + 10000)\n",
    "scatter_plot(alpha_equal)"
   ]
  },
  {
   "cell_type": "markdown",
   "metadata": {},
   "source": [
    "We can see when we have an equal distribution of non-pharmaceutical interventions, it appears that NPI has a bigger effect on the larger $\\alpha$ values than the smaller ones. It seems the relationship between $\\alpha_{own}$ and $\\alpha_{after\\ NPI}$ seems to be logarithmic. It also seems the equal distribution of funds makes is so some very small populations have large decreases in the $\\alpha$ value, while the bigger populations do not."
   ]
  },
  {
   "cell_type": "markdown",
   "metadata": {},
   "source": [
    "ii."
   ]
  },
  {
   "cell_type": "code",
   "execution_count": 9,
   "metadata": {},
   "outputs": [
    {
     "name": "stdout",
     "output_type": "stream",
     "text": [
      "The Difference in the Number of people who succumbed to the virus after 200 days when using equal NPI funding is approximately 320440\n"
     ]
    }
   ],
   "source": [
    "total_recovered = total_recovered_difference(alpha_equal)\n",
    "print(f'The Difference in the Number of people who succumbed to the virus after 200 days when using equal NPI funding is approximately {int(round(total_recovered))}')\n"
   ]
  },
  {
   "cell_type": "markdown",
   "metadata": {},
   "source": [
    "### Policy #2"
   ]
  },
  {
   "cell_type": "markdown",
   "metadata": {},
   "source": [
    "i. "
   ]
  },
  {
   "cell_type": "code",
   "execution_count": 10,
   "metadata": {},
   "outputs": [
    {
     "data": {
      "image/png": "[encoded data removed]",
      "text/plain": [
       "<Figure size 432x288 with 1 Axes>"
      ]
     },
     "metadata": {
      "needs_background": "light"
     },
     "output_type": "display_data"
    }
   ],
   "source": [
    "population_prop = N/np.sum(N)\n",
    "money_allocation = population_prop*1000000\n",
    "alpha_prop = g(g_inv(alpha_predicted) + money_allocation)\n",
    "scatter_plot(alpha_prop)"
   ]
  },
  {
   "cell_type": "markdown",
   "metadata": {},
   "source": [
    "As we can see from this plot, there is still a semi-logarithmic distribution of the points. As we can also see, many of the bigger population nodes seem to have had a greater decrease in the $\\alpha$ value than the smaller nodes. this would make sense, as we would try and put more money to stop it from spreading faster in these areas. Because there is more weight put on these bigger populations, out scatterplot shows to be more flat then if we provide equal funding. "
   ]
  },
  {
   "cell_type": "markdown",
   "metadata": {},
   "source": [
    "ii."
   ]
  },
  {
   "cell_type": "code",
   "execution_count": 60,
   "metadata": {},
   "outputs": [
    {
     "name": "stdout",
     "output_type": "stream",
     "text": [
      "The Difference in the Number of people who succumbed to the virus after 200 days when using equal NPI funding is approximately 335994\n"
     ]
    }
   ],
   "source": [
    "total_recovered = total_recovered_difference(alpha_prop)\n",
    "print(f'The Difference in the Number of people who succumbed to the virus after 200 days when using equal NPI funding is approximately {int(round(total_recovered))}')\n"
   ]
  },
  {
   "cell_type": "markdown",
   "metadata": {},
   "source": [
    "### Policy #3"
   ]
  },
  {
   "cell_type": "markdown",
   "metadata": {},
   "source": [
    "i."
   ]
  },
  {
   "cell_type": "code",
   "execution_count": 108,
   "metadata": {},
   "outputs": [
    {
     "data": {
      "image/png": "[encoded data removed]",
      "text/plain": [
       "<Figure size 432x288 with 1 Axes>"
      ]
     },
     "metadata": {
      "needs_background": "light"
     },
     "output_type": "display_data"
    }
   ],
   "source": [
    "def delta_a(alpha):\n",
    "    \n",
    "    ###### WRITE YOUR FUNCTION HERE\n",
    "\n",
    "    '''\n",
    "    check the value below I'm not sure how to calculate it\n",
    "    ''' \n",
    "    alpha_after = alpha_predicted-alpha\n",
    "    money_total = g_inv(alpha_after)-g_inv(alpha_predicted)\n",
    "    dif = abs(1000000 - sum(money_total))\n",
    "    \n",
    "  \n",
    "\n",
    "    return dif\n",
    "\n",
    "\n",
    "change_a = fmin(delta_a, 0.1, disp=False)\n",
    "scatter_plot((alpha_predicted-change_a))"
   ]
  },
  {
   "cell_type": "code",
   "execution_count": 109,
   "metadata": {},
   "outputs": [
    {
     "name": "stdout",
     "output_type": "stream",
     "text": [
      "[0.20411617 0.35659954 0.19799282 0.68035061 0.64847805 0.17743923\n",
      " 0.3281625  0.32717067 0.35006191 0.1576791  0.25343105 0.30025722\n",
      " 0.28480312 0.18682644 0.10496761 0.2121957  0.17091152 0.52355434\n",
      " 0.55136501 0.15280849 0.24007656 0.27497036 0.45676357 0.2802621\n",
      " 0.30414821 0.1391122  0.34019863 0.18468105 0.44150478 0.63109981\n",
      " 0.26998378 0.27380459 0.35453121 0.14671718 0.5662698  0.60907985\n",
      " 0.36092617 0.14145595 0.25859462 0.83416835 0.38505336 0.40815517\n",
      " 0.3953561  0.15662929 0.21953518 0.40500576 0.6649789  0.29441616\n",
      " 0.21523525 0.18918544 0.1201913  0.18343593 0.30047695 0.23817226\n",
      " 0.15020839 0.62151882 0.16085292 0.49167873 0.24229366 0.52482692\n",
      " 0.33266689 0.25721523 0.32042324 0.38846828 0.23051235 0.47890102\n",
      " 0.17389919 0.38935634 0.42707302 0.13218242 0.13363125 0.30133754\n",
      " 0.26364834 0.42055751 0.3798196  0.26989223 0.5333871  0.61574489\n",
      " 0.34131252 0.17479335 0.30372707 0.47298977 0.66895229 0.32903835\n",
      " 0.25064937 0.27482235 0.24361049 0.5066415  0.92386562 0.4776498\n",
      " 0.14215175 0.32293789 0.22857448 0.20102016 0.4193124  0.17672207\n",
      " 0.13056118 0.89881679 0.22179042 0.65441372]\n"
     ]
    }
   ],
   "source": [
    "print((alpha_predicted-change_a))"
   ]
  },
  {
   "cell_type": "markdown",
   "metadata": {},
   "source": [
    "ii."
   ]
  },
  {
   "cell_type": "code",
   "execution_count": 110,
   "metadata": {},
   "outputs": [
    {
     "name": "stdout",
     "output_type": "stream",
     "text": [
      "The Difference in the Number of people who succumbed to the virus after 200 days when using equal change in alpha is approximately 62743\n"
     ]
    }
   ],
   "source": [
    "total_recovered = total_recovered_difference(alpha_predicted-change_a)\n",
    "print(f'The Difference in the Number of people who succumbed to the virus after 200 days when using equal change in alpha is approximately {int(round(total_recovered))}')\n"
   ]
  },
  {
   "cell_type": "markdown",
   "metadata": {},
   "source": [
    "### Policy #4"
   ]
  },
  {
   "cell_type": "markdown",
   "metadata": {},
   "source": [
    "i."
   ]
  },
  {
   "cell_type": "code",
   "execution_count": 126,
   "metadata": {},
   "outputs": [
    {
     "data": {
      "text/plain": [
       "[<matplotlib.lines.Line2D at 0x25dae9fda08>]"
      ]
     },
     "execution_count": 126,
     "metadata": {},
     "output_type": "execute_result"
    },
    {
     "data": {
      "image/png": "[encoded data removed]",
      "text/plain": [
       "<Figure size 432x288 with 1 Axes>"
      ]
     },
     "metadata": {
      "needs_background": "light"
     },
     "output_type": "display_data"
    }
   ],
   "source": [
    "x = np.linspace(0,1000000)\n",
    "plt.plot(x, g(x)) \n"
   ]
  },
  {
   "cell_type": "markdown",
   "metadata": {},
   "source": [
    "As you see above the maximum change per dollar is when alpha is at its greatest. Therefore in order to maximize the change per cent, it would be best to find the greatest alpha value for every cent and give that node the cent. We do not go below a cent because legally one cent is the minimum amount that can be spent"
   ]
  },
  {
   "cell_type": "code",
   "execution_count": 138,
   "metadata": {},
   "outputs": [
    {
     "name": "stderr",
     "output_type": "stream",
     "text": [
      "C:\\Users\\Romtin\\anaconda3\\lib\\site-packages\\ipykernel_launcher.py:6: RuntimeWarning: divide by zero encountered in double_scalars\n",
      "  \n"
     ]
    }
   ],
   "source": [
    "#maximize the minimization of alpha per dollar\n",
    "#in order to find the maximum change in alpha we need to find the maximum alpha values\n",
    "#\n",
    "import operator\n",
    "alpha_news = alpha_predicted\n",
    "for i in range (100000000):\n",
    "    index = np.argmax(alpha_news)\n",
    "    value = alpha_news[index]\n",
    "    alpha_news[index] = g(g_inv(value)+.01)"
   ]
  },
  {
   "cell_type": "markdown",
   "metadata": {},
   "source": [
    "ii."
   ]
  },
  {
   "cell_type": "code",
   "execution_count": 140,
   "metadata": {},
   "outputs": [
    {
     "name": "stdout",
     "output_type": "stream",
     "text": [
      "The Difference in the Number of people who succumbed to the virus after 200 days when maximizing change in alpha per cent is approximately 583792\n"
     ]
    }
   ],
   "source": [
    "total_recovered = total_recovered_difference(alpha_news)\n",
    "print(f'The Difference in the Number of people who succumbed to the virus after 200 days when maximizing change in alpha per cent is approximately {int(round(total_recovered))}')\n"
   ]
  },
  {
   "cell_type": "markdown",
   "metadata": {},
   "source": [
    "## (c)"
   ]
  },
  {
   "cell_type": "markdown",
   "metadata": {},
   "source": [
    "### Policy 1"
   ]
  },
  {
   "cell_type": "markdown",
   "metadata": {},
   "source": [
    "### Policy 2"
   ]
  },
  {
   "cell_type": "markdown",
   "metadata": {},
   "source": [
    "### Policy 3"
   ]
  },
  {
   "cell_type": "markdown",
   "metadata": {},
   "source": [
    "### Policy 4"
   ]
  }
 ],
 "metadata": {
  "kernelspec": {
   "display_name": "Python 3",
   "language": "python",
   "name": "python3"
  },
  "language_info": {
   "codemirror_mode": {
    "name": "ipython",
    "version": 3
   },
   "file_extension": ".py",
   "mimetype": "text/x-python",
   "name": "python",
   "nbconvert_exporter": "python",
   "pygments_lexer": "ipython3",
   "version": "3.7.6"
  }
 },
 "nbformat": 4,
 "nbformat_minor": 4
}
